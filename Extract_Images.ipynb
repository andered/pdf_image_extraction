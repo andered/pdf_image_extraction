{
 "cells": [
  {
   "cell_type": "markdown",
   "metadata": {},
   "source": [
    "## 1. Install Packages"
   ]
  },
  {
   "cell_type": "code",
   "execution_count": 1,
   "metadata": {},
   "outputs": [],
   "source": [
    "import io\n",
    "import os\n",
    "import fitz\n",
    "from PIL import Image\n",
    "from os import listdir"
   ]
  },
  {
   "cell_type": "markdown",
   "metadata": {},
   "source": [
    "# 2. Define Folders, List Papers"
   ]
  },
  {
   "cell_type": "code",
   "execution_count": 2,
   "metadata": {},
   "outputs": [
    {
     "name": "stdout",
     "output_type": "stream",
     "text": [
      "[]\n"
     ]
    }
   ],
   "source": [
    "paperFolder = 'original_paper'\n",
    "imageFolder = 'extracted_images'\n",
    "\n",
    "print(os.listdir(paperFolder))"
   ]
  },
  {
   "cell_type": "markdown",
   "metadata": {},
   "source": [
    "# 3. Scan Files and Extract Images"
   ]
  },
  {
   "cell_type": "code",
   "execution_count": 3,
   "metadata": {},
   "outputs": [],
   "source": [
    "# iterate over PDF pages\n",
    "for file in os.listdir(paperFolder):\n",
    "    \n",
    "    document_original = os.path.join(paperFolder, file)\n",
    "    \n",
    "    # open the file\n",
    "    pdf_file = fitz.open(document_original)\n",
    "\n",
    "    for page_index in range(len(pdf_file)):\n",
    "        # get the page itself\n",
    "        page = pdf_file[page_index]\n",
    "        image_list = page.get_images()\n",
    "        # printing number of images found in this page\n",
    "        if image_list:\n",
    "            print(f\"[+] Found a total of {len(image_list)} images in page {page_index}\")\n",
    "        else:\n",
    "            print(\"[!] No images found on page\", page_index)\n",
    "        for image_index, img in enumerate(page.get_images(), start=1):\n",
    "            # get the XREF of the image\n",
    "            xref = img[0]\n",
    "            # extract the image bytes\n",
    "            base_image = pdf_file.extract_image(xref)\n",
    "            image_bytes = base_image[\"image\"]\n",
    "            # get the image extension\n",
    "            image_ext = base_image[\"ext\"]\n",
    "            # load it to PIL\n",
    "            image = Image.open(io.BytesIO(image_bytes))\n",
    "            \n",
    "            # save it to local disk\n",
    "            extracted_image_file = os.path.join (imageFolder, f\"{file}_image{page_index+1}_{image_index}.{image_ext}\") \n",
    "            image.save(open(extracted_image, \"wb\"))"
   ]
  }
 ],
 "metadata": {
  "kernelspec": {
   "display_name": "Python 3.9.12 ('PDF_processing')",
   "language": "python",
   "name": "python3"
  },
  "language_info": {
   "codemirror_mode": {
    "name": "ipython",
    "version": 3
   },
   "file_extension": ".py",
   "mimetype": "text/x-python",
   "name": "python",
   "nbconvert_exporter": "python",
   "pygments_lexer": "ipython3",
   "version": "3.9.12"
  },
  "orig_nbformat": 4,
  "vscode": {
   "interpreter": {
    "hash": "0401e09e3f471ea7dc33ca1632c4434a6203aa9127d6eb16b29d9b4aa91f7973"
   }
  }
 },
 "nbformat": 4,
 "nbformat_minor": 2
}
